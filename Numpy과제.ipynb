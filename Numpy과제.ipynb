{
  "nbformat": 4,
  "nbformat_minor": 0,
  "metadata": {
    "colab": {
      "provenance": [],
      "authorship_tag": "ABX9TyME+HHN1IVKgksvUeWF4a6j",
      "include_colab_link": true
    },
    "kernelspec": {
      "name": "python3",
      "display_name": "Python 3"
    },
    "language_info": {
      "name": "python"
    }
  },
  "cells": [
    {
      "cell_type": "markdown",
      "metadata": {
        "id": "view-in-github",
        "colab_type": "text"
      },
      "source": [
        "<a href=\"https://colab.research.google.com/github/hyeeunun/-/blob/main/Numpy%EA%B3%BC%EC%A0%9C.ipynb\" target=\"_parent\"><img src=\"https://colab.research.google.com/assets/colab-badge.svg\" alt=\"Open In Colab\"/></a>"
      ]
    },
    {
      "cell_type": "code",
      "execution_count": 31,
      "metadata": {
        "colab": {
          "base_uri": "https://localhost:8080/",
          "height": 106
        },
        "id": "4RLqJ6edOti6",
        "outputId": "f85be576-cdd8-4134-e04b-c6347b664fe2"
      },
      "outputs": [
        {
          "output_type": "error",
          "ename": "SyntaxError",
          "evalue": "invalid syntax (<ipython-input-31-d6f91a763be5>, line 5)",
          "traceback": [
            "\u001b[0;36m  File \u001b[0;32m\"<ipython-input-31-d6f91a763be5>\"\u001b[0;36m, line \u001b[0;32m5\u001b[0m\n\u001b[0;31m    print(|n)\u001b[0m\n\u001b[0m          ^\u001b[0m\n\u001b[0;31mSyntaxError\u001b[0m\u001b[0;31m:\u001b[0m invalid syntax\n"
          ]
        }
      ],
      "source": [
        "#1.np.zeros를 이용하여 행이 3, 열이 4인 ndarray를 생성하고 내용을 출력하시오. 이 때 생성된 ndarray의 이름은 a가 되도록 한다.\n",
        "import numpy as np\n",
        "a = np.zeros((3,4))\n",
        "print(a)\n",
        "\n",
        "#2.위에서 생성한 ndarray a에 대하여, 다중 for 문을 이용해 아래와 같은 값을 갖도록 초기화하고 내용을 출력하시오.\n",
        "#array([[ 1.,  2.,  3.,  4.],[ 5.,  6.,  7.,  8.], [ 9., 10., 11., 12.]])\n",
        "count = 1\n",
        "for i in range(3):\n",
        "  for j in range(4):\n",
        "    a[i, j] = count\n",
        "    count += 1\n",
        "print(a)\n",
        "\n",
        "#3. 초기화한 a로부터 값 7을 꺼내도록 인덱싱하여 출력하시오.\n",
        "print(a[1, 2])\n",
        "\n",
        "#4. a에서 아래와 같이 둘째 행을 꺼내도록 인덱싱하고 출력하시오.아래 결과에서 차원이 유지된 것에 주의하여 인덱싱을 하시오.\n",
        "#array([[5., 6., 7., 8.]])\n",
        "print(a[1:2, :])\n",
        "\n",
        "#5.a에서 아래와 같이 둘째 열과 셋째 열이 나오도록 인덱싱하고 결과를 출력하시오.\n",
        "#array([[ 2.,  3.], [ 6.,  7.],[10., 11.]])\n",
        "print(a[:, 1:3])\n",
        "\n",
        "#6. 아래와 같이 a에서 6보다 작거나 같은 값들이 나오도록 불리안 인덱싱을 하고 결과를 출력하시오.\n",
        "#array([1., 2., 3., 4., 5., 6.])\n",
        "print(a[a<=6])\n",
        "\n",
        "#7. np.random 패키지를 이용하여 0에서 1사이의 값이 무작위로 생성된, 행이 3 열이 4인 ndarray를 생성하시오.\n",
        "#이 때 생성된 ndarray의 이름은 b가 되도록 한다.그리고 아래와 같이 랜덤 시드 설정을 7로 하고 실행하시오.\n",
        "#np.random.seed(7)\n",
        "np.random.seed(7)\n",
        "b = np.random.rand(3, 4)\n",
        "print(b)\n",
        "\n",
        "#8. a와 b의 요소곱을 하여 c에 저장하고 결과를 출력하시오\n",
        "c = a * b\n",
        "print(c)\n",
        "\n",
        "#9. b의 전치행렬을 구하여 d에 저장하고 결과를 출력하시오.\n",
        "d = b.T\n",
        "print(d)\n",
        "\n",
        "#10. a와 d에 대하여 각 차원의 크기를 출력하시오.\n",
        "print(a.shape, d.shape)\n",
        "\n",
        "#11.a와 d의 행렬곱을 계산하여 e에 저장하고 결과를 출력하시오.\n",
        "e = np.dot(a, d)\n",
        "print(e)\n",
        "\n",
        "#12. e에 대하여 각 열의 합을 계산하여 출력하시오.\n",
        "print(np.sum(e, axis=0))\n"
      ]
    },
    {
      "cell_type": "code",
      "source": [],
      "metadata": {
        "id": "dAdrnaE3QaoY"
      },
      "execution_count": null,
      "outputs": []
    }
  ]
}