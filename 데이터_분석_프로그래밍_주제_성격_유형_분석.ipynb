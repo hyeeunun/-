{
  "metadata": {
    "kernelspec": {
      "language": "python",
      "display_name": "Python 3",
      "name": "python3"
    },
    "language_info": {
      "name": "python",
      "version": "3.10.14",
      "mimetype": "text/x-python",
      "codemirror_mode": {
        "name": "ipython",
        "version": 3
      },
      "pygments_lexer": "ipython3",
      "nbconvert_exporter": "python",
      "file_extension": ".py"
    },
    "kaggle": {
      "accelerator": "none",
      "dataSources": [
        {
          "sourceId": 9392095,
          "sourceType": "datasetVersion",
          "datasetId": 5622628
        }
      ],
      "dockerImageVersionId": 30761,
      "isInternetEnabled": false,
      "language": "python",
      "sourceType": "notebook",
      "isGpuEnabled": false
    },
    "colab": {
      "provenance": [],
      "include_colab_link": true
    }
  },
  "nbformat_minor": 0,
  "nbformat": 4,
  "cells": [
    {
      "cell_type": "markdown",
      "metadata": {
        "id": "view-in-github",
        "colab_type": "text"
      },
      "source": [
        "<a href=\"https://colab.research.google.com/github/hyeeunun/-/blob/main/%EB%8D%B0%EC%9D%B4%ED%84%B0_%EB%B6%84%EC%84%9D_%ED%94%84%EB%A1%9C%EA%B7%B8%EB%9E%98%EB%B0%8D_%EC%A3%BC%EC%A0%9C_%EC%84%B1%EA%B2%A9_%EC%9C%A0%ED%98%95_%EB%B6%84%EC%84%9D.ipynb\" target=\"_parent\"><img src=\"https://colab.research.google.com/assets/colab-badge.svg\" alt=\"Open In Colab\"/></a>"
      ]
    },
    {
      "source": [
        "\n",
        "# IMPORTANT: RUN THIS CELL IN ORDER TO IMPORT YOUR KAGGLE DATA SOURCES\n",
        "# TO THE CORRECT LOCATION (/kaggle/input) IN YOUR NOTEBOOK,\n",
        "# THEN FEEL FREE TO DELETE THIS CELL.\n",
        "# NOTE: THIS NOTEBOOK ENVIRONMENT DIFFERS FROM KAGGLE'S PYTHON\n",
        "# ENVIRONMENT SO THERE MAY BE MISSING LIBRARIES USED BY YOUR\n",
        "# NOTEBOOK.\n",
        "\n",
        "import os\n",
        "import sys\n",
        "from tempfile import NamedTemporaryFile\n",
        "from urllib.request import urlopen\n",
        "from urllib.parse import unquote, urlparse\n",
        "from urllib.error import HTTPError\n",
        "from zipfile import ZipFile\n",
        "import tarfile\n",
        "import shutil\n",
        "\n",
        "CHUNK_SIZE = 40960\n",
        "DATA_SOURCE_MAPPING = 'predict-people-personality-types:https%3A%2F%2Fstorage.googleapis.com%2Fkaggle-data-sets%2F5622628%2F9392095%2Fbundle%2Farchive.zip%3FX-Goog-Algorithm%3DGOOG4-RSA-SHA256%26X-Goog-Credential%3Dgcp-kaggle-com%2540kaggle-161607.iam.gserviceaccount.com%252F20240922%252Fauto%252Fstorage%252Fgoog4_request%26X-Goog-Date%3D20240922T154227Z%26X-Goog-Expires%3D259200%26X-Goog-SignedHeaders%3Dhost%26X-Goog-Signature%3Da3c671648789dd4242bebb98e030f79345fd6c6d689394e99b21c7db9671de2a9c45687fb89c44cd8a522e223762c4e8723e98bf9d5641da635fbe9e75d7115cf7dec59f68eec5eb38dcea83c3404d887164d8eace282efc84235d5e566e161797193f5fe06035a661cfac116584c0347236784036e7f129c8aaea5fb3250fbc235b8f2e418a78d0e218342314ea053bd7a2d86e882ca9f408b65e984c8088efbfd8bdb0a75cb552c3587bd0eda291428ef0891e30451d71c0cb37159e931b2caf7dfd5ab64a054bcac56637fc87e34599341d3df77f0b713ad73b3c95f858bebf737a9fcf3463decfdbf8d6b1e20a6bcaff53cc567506641b7828cb6bf7f263'\n",
        "\n",
        "KAGGLE_INPUT_PATH='/kaggle/input'\n",
        "KAGGLE_WORKING_PATH='/kaggle/working'\n",
        "KAGGLE_SYMLINK='kaggle'\n",
        "\n",
        "!umount /kaggle/input/ 2> /dev/null\n",
        "shutil.rmtree('/kaggle/input', ignore_errors=True)\n",
        "os.makedirs(KAGGLE_INPUT_PATH, 0o777, exist_ok=True)\n",
        "os.makedirs(KAGGLE_WORKING_PATH, 0o777, exist_ok=True)\n",
        "\n",
        "try:\n",
        "  os.symlink(KAGGLE_INPUT_PATH, os.path.join(\"..\", 'input'), target_is_directory=True)\n",
        "except FileExistsError:\n",
        "  pass\n",
        "try:\n",
        "  os.symlink(KAGGLE_WORKING_PATH, os.path.join(\"..\", 'working'), target_is_directory=True)\n",
        "except FileExistsError:\n",
        "  pass\n",
        "\n",
        "for data_source_mapping in DATA_SOURCE_MAPPING.split(','):\n",
        "    directory, download_url_encoded = data_source_mapping.split(':')\n",
        "    download_url = unquote(download_url_encoded)\n",
        "    filename = urlparse(download_url).path\n",
        "    destination_path = os.path.join(KAGGLE_INPUT_PATH, directory)\n",
        "    try:\n",
        "        with urlopen(download_url) as fileres, NamedTemporaryFile() as tfile:\n",
        "            total_length = fileres.headers['content-length']\n",
        "            print(f'Downloading {directory}, {total_length} bytes compressed')\n",
        "            dl = 0\n",
        "            data = fileres.read(CHUNK_SIZE)\n",
        "            while len(data) > 0:\n",
        "                dl += len(data)\n",
        "                tfile.write(data)\n",
        "                done = int(50 * dl / int(total_length))\n",
        "                sys.stdout.write(f\"\\r[{'=' * done}{' ' * (50-done)}] {dl} bytes downloaded\")\n",
        "                sys.stdout.flush()\n",
        "                data = fileres.read(CHUNK_SIZE)\n",
        "            if filename.endswith('.zip'):\n",
        "              with ZipFile(tfile) as zfile:\n",
        "                zfile.extractall(destination_path)\n",
        "            else:\n",
        "              with tarfile.open(tfile.name) as tarfile:\n",
        "                tarfile.extractall(destination_path)\n",
        "            print(f'\\nDownloaded and uncompressed: {directory}')\n",
        "    except HTTPError as e:\n",
        "        print(f'Failed to load (likely expired) {download_url} to path {destination_path}')\n",
        "        continue\n",
        "    except OSError as e:\n",
        "        print(f'Failed to load {download_url} to path {destination_path}')\n",
        "        continue\n",
        "\n",
        "print('Data source import complete.')\n"
      ],
      "metadata": {
        "id": "wHaddT9wZhWW"
      },
      "cell_type": "code",
      "outputs": [],
      "execution_count": null
    },
    {
      "cell_type": "code",
      "source": [
        "import pandas as pd\n",
        "import plotly.express as px\n",
        "from ydata_profiling import ProfileReport\n"
      ],
      "metadata": {
        "execution": {
          "iopub.status.busy": "2024-09-21T12:20:02.61082Z",
          "iopub.execute_input": "2024-09-21T12:20:02.61128Z",
          "iopub.status.idle": "2024-09-21T12:20:02.617575Z",
          "shell.execute_reply.started": "2024-09-21T12:20:02.611241Z",
          "shell.execute_reply": "2024-09-21T12:20:02.61647Z"
        },
        "trusted": true,
        "id": "H_RvsZiIZhWZ"
      },
      "execution_count": null,
      "outputs": []
    },
    {
      "cell_type": "code",
      "source": [
        "df = pd.read_csv('/kaggle/input/predict-people-personality-types/data.csv')\n",
        "df.head()"
      ],
      "metadata": {
        "execution": {
          "iopub.status.busy": "2024-09-21T11:09:44.585741Z",
          "iopub.execute_input": "2024-09-21T11:09:44.586526Z",
          "iopub.status.idle": "2024-09-21T11:09:44.897809Z",
          "shell.execute_reply.started": "2024-09-21T11:09:44.586482Z",
          "shell.execute_reply": "2024-09-21T11:09:44.896428Z"
        },
        "trusted": true,
        "id": "zSgMyHHUZhWa"
      },
      "execution_count": null,
      "outputs": []
    },
    {
      "cell_type": "code",
      "source": [
        "df.info()"
      ],
      "metadata": {
        "execution": {
          "iopub.status.busy": "2024-09-21T11:09:44.899859Z",
          "iopub.execute_input": "2024-09-21T11:09:44.900386Z",
          "iopub.status.idle": "2024-09-21T11:09:44.947604Z",
          "shell.execute_reply.started": "2024-09-21T11:09:44.900333Z",
          "shell.execute_reply": "2024-09-21T11:09:44.946456Z"
        },
        "trusted": true,
        "id": "MyerrOaDZhWa"
      },
      "execution_count": null,
      "outputs": []
    },
    {
      "cell_type": "code",
      "source": [
        "df.isnull().sum()"
      ],
      "metadata": {
        "execution": {
          "iopub.status.busy": "2024-09-21T11:09:44.950644Z",
          "iopub.execute_input": "2024-09-21T11:09:44.951126Z",
          "iopub.status.idle": "2024-09-21T11:09:44.980996Z",
          "shell.execute_reply.started": "2024-09-21T11:09:44.951079Z",
          "shell.execute_reply": "2024-09-21T11:09:44.979792Z"
        },
        "trusted": true,
        "id": "paM1hHRgZhWa"
      },
      "execution_count": null,
      "outputs": []
    },
    {
      "cell_type": "code",
      "source": [
        "df.duplicated().sum()"
      ],
      "metadata": {
        "execution": {
          "iopub.status.busy": "2024-09-21T11:09:44.982342Z",
          "iopub.execute_input": "2024-09-21T11:09:44.982733Z",
          "iopub.status.idle": "2024-09-21T11:09:45.073277Z",
          "shell.execute_reply.started": "2024-09-21T11:09:44.98268Z",
          "shell.execute_reply": "2024-09-21T11:09:45.07209Z"
        },
        "trusted": true,
        "id": "ztENP7JHZhWa"
      },
      "execution_count": null,
      "outputs": []
    },
    {
      "cell_type": "code",
      "source": [
        "df.describe()"
      ],
      "metadata": {
        "execution": {
          "iopub.status.busy": "2024-09-21T11:09:45.074842Z",
          "iopub.execute_input": "2024-09-21T11:09:45.075315Z",
          "iopub.status.idle": "2024-09-21T11:09:45.140402Z",
          "shell.execute_reply.started": "2024-09-21T11:09:45.075247Z",
          "shell.execute_reply": "2024-09-21T11:09:45.139262Z"
        },
        "trusted": true,
        "id": "1r8ylBAyZhWb"
      },
      "execution_count": null,
      "outputs": []
    },
    {
      "cell_type": "markdown",
      "source": [
        "#  Feature Descriptions\n",
        "* Age: A continuous variable representing the age of the individual.\n",
        "*\n",
        "* Gender: A categorical variable indicating the gender of the individual. Possible values are 'Male' and 'Female'.\n",
        "*\n",
        "* Education: A binary variable, A value of 1 indicates the individual has at least a graduate-level education (or higher), and 0 indicates an undergraduate, high school level or Uneducated.\n",
        "*\n",
        "* Interest: A categorical variable representing the individual's primary area of interest.\n",
        "*\n",
        "* Introversion Score: A continuous variable ranging from 0 to 10, representing the individual's tendency toward introversion versus extraversion. Higher scores indicate a greater tendency toward extraversion.\n",
        "*\n",
        "* Sensing Score: A continuous variable ranging from 0 to 10, representing the individual's preference for sensing versus intuition. Higher scores indicate a preference for sensing.\n",
        "*\n",
        "* Thinking Score: A continuous variable ranging from 0 to 10, indicating the individual's preference for thinking versus feeling. Higher scores indicate a preference for thinking.\n",
        "*\n",
        "* Judging Score: A continuous variable ranging from 0 to 10, representing the individual's preference for judging versus perceiving. Higher scores indicate a preference for judging.\n",
        "*\n",
        "* Personality: Target that contains People Personality Type"
      ],
      "metadata": {
        "id": "5SyWD1-iZhWb"
      }
    },
    {
      "cell_type": "code",
      "source": [
        "report = ProfileReport(df , dark_mode= True  , title = 'EDA REPORT OF THE DATA')\n",
        "report"
      ],
      "metadata": {
        "execution": {
          "iopub.status.busy": "2024-09-21T11:09:45.141703Z",
          "iopub.execute_input": "2024-09-21T11:09:45.142043Z",
          "iopub.status.idle": "2024-09-21T11:10:10.491806Z",
          "shell.execute_reply.started": "2024-09-21T11:09:45.142007Z",
          "shell.execute_reply": "2024-09-21T11:10:10.490528Z"
        },
        "trusted": true,
        "id": "JUApmeJ0ZhWc"
      },
      "execution_count": null,
      "outputs": []
    },
    {
      "cell_type": "markdown",
      "source": [
        " # Here is a brief description of each of the 16 Myers-Briggs Type Indicator (MBTI) personality types you mentioned:\n",
        "\n",
        "**ENFP (Extraverted, Intuitive, Feeling, Perceiving):**\n",
        "\n",
        "Enthusiastic, creative, and sociable free spirits who see life as full of possibilities. ENFPs are highly independent and prefer novelty and excitement.\n",
        "\n",
        "**ESFP (Extraverted, Sensing, Feeling, Perceiving):**\n",
        "\n",
        "Fun-loving, spontaneous, and energetic individuals who enjoy being the center of attention. ESFPs are highly in tune with their surroundings and love to entertain.\n",
        "\n",
        "**INTP (Introverted, Intuitive, Thinking, Perceiving):**\n",
        "\n",
        "Analytical, logical, and inventive thinkers who enjoy deep thought and solving complex problems. INTPs value independence and intellectual exploration.\n",
        "\n",
        "**INFP (Introverted, Intuitive, Feeling, Perceiving):**\n",
        "\n",
        "Idealistic, sensitive, and compassionate individuals who strive for harmony and understanding. INFPs focus on personal values and love creative expression.\n",
        "\n",
        "**ENFJ (Extraverted, Intuitive, Feeling, Judging):**\n",
        "\n",
        "Charismatic and empathetic leaders who help others grow and develop. ENFJs are organized, persuasive, and skilled at reading emotions.\n",
        "\n",
        "**ENTP (Extraverted, Intuitive, Thinking, Perceiving):**\n",
        "\n",
        "Quick-witted and resourceful, ENTPs enjoy debates and new ideas. They thrive on intellectual challenges and are always seeking innovation.\n",
        "\n",
        "**ESTP (Extraverted, Sensing, Thinking, Perceiving):**\n",
        "\n",
        "Action-oriented, adaptable, and pragmatic individuals who enjoy taking risks and living in the moment. ESTPs excel in crisis situations and love excitement.\n",
        "\n",
        "**ISTP (Introverted, Sensing, Thinking, Perceiving):**\n",
        "\n",
        "Practical and logical problem solvers who love working with their hands and understanding how things work. ISTPs are independent and spontaneous.\n",
        "\n",
        "**INTJ (Introverted, Intuitive, Thinking, Judging):**\n",
        "\n",
        "Strategic, logical, and future-oriented individuals who excel at planning and organizing. INTJs are often visionaries, valuing knowledge and competence.\n",
        "\n",
        "**INFJ (Introverted, Intuitive, Feeling, Judging):**\n",
        "\n",
        "Insightful and empathetic individuals with a strong sense of morality. INFJs focus on helping others and often feel called to serve a higher purpose.\n",
        "\n",
        "**ISFP (Introverted, Sensing, Feeling, Perceiving):**\n",
        "\n",
        "Gentle, artistic, and sensitive individuals who appreciate beauty and value personal freedom. ISFPs tend to be quiet and prefer hands-on experiences.\n",
        "\n",
        "**ENTJ (Extraverted, Intuitive, Thinking, Judging):**\n",
        "\n",
        "Bold, confident, and decisive leaders who excel at organizing and achieving their goals. ENTJs are highly strategic and value efficiency.\n",
        "\n",
        "**ESFJ (Extraverted, Sensing, Feeling, Judging):**\n",
        "\n",
        "Warm, friendly, and organized individuals who enjoy helping others and maintaining harmony. ESFJs value tradition and are often highly sociable.\n",
        "\n",
        "**ISFJ (Introverted, Sensing, Feeling, Judging):**\n",
        "\n",
        "Caring, loyal, and detail-oriented individuals who enjoy helping others and creating a sense of stability. ISFJs are highly dependable and organized.\n",
        "\n",
        "**ISTJ (Introverted, Sensing, Thinking, Judging):**\n",
        "\n",
        "Practical, responsible, and thorough individuals who value traditions and structure. ISTJs are reliable and prefer working in established systems.\n",
        "\n",
        "**ESTJ (Extraverted, Sensing, Thinking, Judging):**\n",
        "\n",
        "Efficient, organized, and take-charge individuals who excel at managing people and projects. ESTJs are highly logical and value order."
      ],
      "metadata": {
        "id": "0EHjdXjBZhWd"
      }
    },
    {
      "cell_type": "code",
      "source": [
        "persona = df.groupby('Personality')['Gender'].value_counts().sort_values(ascending = False).reset_index()\n",
        "\n",
        "\n",
        "fig  = px.bar(persona , y = 'count' , x= 'Personality' , color = 'Gender' , text_auto=True , title = 'GENDERS COUNT IN EVERY KIND OF PERSONALITY', height = 600)\n",
        "\n",
        "fig.show()"
      ],
      "metadata": {
        "execution": {
          "iopub.status.busy": "2024-09-21T11:47:18.661727Z",
          "iopub.execute_input": "2024-09-21T11:47:18.662181Z",
          "iopub.status.idle": "2024-09-21T11:47:18.75106Z",
          "shell.execute_reply.started": "2024-09-21T11:47:18.662139Z",
          "shell.execute_reply": "2024-09-21T11:47:18.749881Z"
        },
        "trusted": true,
        "id": "Z0z2uUSoZhWd"
      },
      "execution_count": null,
      "outputs": []
    },
    {
      "cell_type": "code",
      "source": [
        "intr = df.groupby('Personality')['Interest'].value_counts().sort_values(ascending = False).reset_index()\n",
        "\n",
        "fig  = px.bar(intr , y = 'count' , x= 'Personality' , color = 'Interest' , text_auto=True , title = 'INTEREST COUNT IN EVERY KIND OF PERSONALITY', height = 600)\n",
        "\n",
        "fig.show()\n"
      ],
      "metadata": {
        "execution": {
          "iopub.status.busy": "2024-09-21T12:16:38.766377Z",
          "iopub.execute_input": "2024-09-21T12:16:38.76681Z",
          "iopub.status.idle": "2024-09-21T12:16:38.868383Z",
          "shell.execute_reply.started": "2024-09-21T12:16:38.766771Z",
          "shell.execute_reply": "2024-09-21T12:16:38.867251Z"
        },
        "trusted": true,
        "id": "icdLVCY5ZhWe"
      },
      "execution_count": null,
      "outputs": []
    },
    {
      "cell_type": "code",
      "source": [
        "# Function to categorize age into brackets\n",
        "def age_bracket(age):\n",
        "    if 18 <= age < 30:\n",
        "        return '20s'\n",
        "    elif 30 <= age < 40:\n",
        "        return '30s'\n",
        "    elif 40 <= age < 50:\n",
        "        return '40s'\n",
        "    else:\n",
        "        return '50s'\n",
        "\n",
        "# Apply the function to create a new column 'Age Bracket'\n",
        "df['Age Bracket'] = df['Age'].apply(age_bracket)"
      ],
      "metadata": {
        "execution": {
          "iopub.status.busy": "2024-09-21T12:29:40.061109Z",
          "iopub.execute_input": "2024-09-21T12:29:40.061524Z",
          "iopub.status.idle": "2024-09-21T12:29:40.113645Z",
          "shell.execute_reply.started": "2024-09-21T12:29:40.061488Z",
          "shell.execute_reply": "2024-09-21T12:29:40.112327Z"
        },
        "trusted": true,
        "id": "fwafa65gZhWe"
      },
      "execution_count": null,
      "outputs": []
    },
    {
      "cell_type": "code",
      "source": [
        "ag = df.groupby('Gender')['Age Bracket'].value_counts().sort_values(ascending = False).reset_index()\n",
        "\n",
        "ag.iloc[: , [1,0,2]]"
      ],
      "metadata": {
        "execution": {
          "iopub.status.busy": "2024-09-21T12:56:59.680569Z",
          "iopub.execute_input": "2024-09-21T12:56:59.681452Z",
          "iopub.status.idle": "2024-09-21T12:56:59.717448Z",
          "shell.execute_reply.started": "2024-09-21T12:56:59.681406Z",
          "shell.execute_reply": "2024-09-21T12:56:59.716193Z"
        },
        "trusted": true,
        "id": "pajjWe_IZhWe"
      },
      "execution_count": null,
      "outputs": []
    },
    {
      "cell_type": "code",
      "source": [
        "age_bracet = df.groupby('Personality')[['Gender','Age Bracket']].value_counts().sort_values(ascending = False).reset_index()\n",
        "\n",
        "fig  = px.bar(age_bracet , y = 'count' , x= 'Personality' , color = 'Age Bracket' ,hover_data='Gender' , text_auto=True , title = 'Age Bracket COUNT IN EVERY KIND OF PERSONALITY', height = 800)\n",
        "\n",
        "fig.show()\n"
      ],
      "metadata": {
        "execution": {
          "iopub.status.busy": "2024-09-21T12:40:28.112599Z",
          "iopub.execute_input": "2024-09-21T12:40:28.113087Z",
          "iopub.status.idle": "2024-09-21T12:40:28.252848Z",
          "shell.execute_reply.started": "2024-09-21T12:40:28.113043Z",
          "shell.execute_reply": "2024-09-21T12:40:28.251766Z"
        },
        "trusted": true,
        "id": "TfX9RBp9ZhWe"
      },
      "execution_count": null,
      "outputs": []
    },
    {
      "cell_type": "markdown",
      "source": [
        "# ****THANK YOU..........****"
      ],
      "metadata": {
        "id": "V-YoITNKZhWe"
      }
    }
  ]
}