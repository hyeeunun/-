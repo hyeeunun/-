{
  "nbformat": 4,
  "nbformat_minor": 0,
  "metadata": {
    "colab": {
      "provenance": []
    },
    "kernelspec": {
      "name": "python3",
      "display_name": "Python 3"
    },
    "language_info": {
      "name": "python"
    }
  },
  "cells": [
    {
      "cell_type": "code",
      "execution_count": null,
      "metadata": {
        "colab": {
          "base_uri": "https://localhost:8080/"
        },
        "id": "7TjCdu8ow2dT",
        "outputId": "9857c8ec-a5fc-40b5-a43d-a6e15bb37f0a"
      },
      "outputs": [
        {
          "output_type": "stream",
          "name": "stdout",
          "text": [
            "[0, 1, 2, 3, 4, 5, 6, 7, 8, 9]\n",
            "[0, 2, 4, 6, 8]\n",
            "[1, 3, 5, 7, 9]\n",
            "[9, 8, 7, 6, 5, 4, 3, 2, 1, 0]\n",
            "[9, 8]\n"
          ]
        }
      ],
      "source": [
        "nums = list(range(10))\n",
        "print(nums)\n",
        "print(nums[::2])    # 처음부터 2씩 건너뛰면서 출력 -> 결과적으로 짝수만 출력\n",
        "print(nums[1::2])   # 1번째부터 2씩 건너뛰면서 출력 -> 결과적으로 홀수만 출력\n",
        "print(nums[::-1])   # 뒤에서부터 거꾸로 출력\n",
        "print(nums[:-3:-1]) # nums의 -3 인덱스 (7) 이전까지 뒤에서부터 거꾸로 출력"
      ]
    },
    {
      "cell_type": "code",
      "source": [],
      "metadata": {
        "id": "7FyEup_Dy_R2"
      },
      "execution_count": null,
      "outputs": []
    },
    {
      "cell_type": "code",
      "source": [],
      "metadata": {
        "id": "LZETQ-R2xAwE"
      },
      "execution_count": null,
      "outputs": []
    }
  ]
}